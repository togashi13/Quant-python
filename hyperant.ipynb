{
 "cells": [
  {
   "cell_type": "code",
   "execution_count": null,
   "metadata": {
    "collapsed": true
   },
   "outputs": [],
   "source": [
    "from random import randint\n",
    "def number_of_moves(dimension):\n",
    "    #return number of moves needed for \n",
    "    #one simulated trip by the ant.\n",
    "    vertex = [0]*dimension\n",
    "    move_count = 0\n",
    "    while sum(vertex)< dimension:\n",
    "        axis_choice = randint(0, dimension - 1)\n",
    "        vertex(axis_choice)=1- vertex(axis_choice)\n",
    "        move_count += 1\n",
    "    return move_count\n",
    "\n",
    "\n",
    "number_of_trials = 1000\n",
    "sum([number_of_moves(2) for i in range(number_of_trials)])/number_of_trials"
   ]
  }
 ],
 "metadata": {
  "kernelspec": {
   "display_name": "Python 3",
   "language": "python",
   "name": "python3"
  },
  "language_info": {
   "codemirror_mode": {
    "name": "ipython",
    "version": 3
   },
   "file_extension": ".py",
   "mimetype": "text/x-python",
   "name": "python",
   "nbconvert_exporter": "python",
   "pygments_lexer": "ipython3",
   "version": "3.6.1"
  }
 },
 "nbformat": 4,
 "nbformat_minor": 2
}
